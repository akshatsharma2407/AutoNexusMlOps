{
 "cells": [
  {
   "cell_type": "code",
   "execution_count": 1,
   "id": "86cc8fbc",
   "metadata": {},
   "outputs": [],
   "source": [
    "import pandas as pd\n",
    "import mlflow\n",
    "import dagshub\n",
    "from sklearn.model_selection import cross_val_score, KFold, cross_validate\n",
    "from sklearn.ensemble import RandomForestRegressor\n",
    "from xgboost import XGBRegressor\n",
    "from feature_engine.encoding import CountFrequencyEncoder, MeanEncoder\n",
    "from sklearn.pipeline import Pipeline\n",
    "from sklearn.compose import ColumnTransformer\n",
    "from sklearn.preprocessing import OrdinalEncoder\n",
    "import optuna"
   ]
  },
  {
   "cell_type": "code",
   "execution_count": 2,
   "id": "6edce153",
   "metadata": {},
   "outputs": [],
   "source": [
    "train = pd.read_parquet('C:/Users/aksha/OneDrive/Desktop/AutoNexusMlOps/data/Exp/train.parquet')\n",
    "test = pd.read_parquet('C:/Users/aksha/OneDrive/Desktop/AutoNexusMlOps/data/Exp/test.parquet')\n",
    "\n",
    "xtrain = train.drop(columns=['Price'])\n",
    "ytrain = train['Price'].copy()"
   ]
  },
  {
   "cell_type": "code",
   "execution_count": null,
   "id": "b14f53f3",
   "metadata": {},
   "outputs": [],
   "source": [
    "def objective(trial):\n",
    "    # --- choose encoder ---\n",
    "    encoder_type = trial.suggest_categorical(\"encoder_type\", [\"Freq\", \"Count\",\"Target\"])\n",
    "\n",
    "    # --- define transformer dynamically ---\n",
    "    if encoder_type == \"Freq\":\n",
    "        transformer = ColumnTransformer([\n",
    "            ('ordinal_encoding',\n",
    "             OrdinalEncoder(categories=[['New', 'Certified', 'Used']]),\n",
    "             ['Stock_Type']),\n",
    "            ('frequency',\n",
    "             CountFrequencyEncoder(encoding_method='frequency'),\n",
    "             ['Brand_Name', 'Model_Name', 'Exterior_Color',\n",
    "              'Interior_Color', 'Drivetrain', 'Fuel_Type',\n",
    "              'Cylinder_Config', 'City', 'STATE'])\n",
    "        ],remainder='passthrough')\n",
    "        \n",
    "    elif encoder_type == \"Count\":\n",
    "        transformer = ColumnTransformer([\n",
    "            ('ordinal_encoding',\n",
    "             OrdinalEncoder(categories=[['New', 'Certified', 'Used']]),\n",
    "             ['Stock_Type']),\n",
    "            ('Count',\n",
    "             CountFrequencyEncoder(encoding_method='count'),\n",
    "             ['Brand_Name', 'Model_Name', 'Exterior_Color',\n",
    "              'Interior_Color', 'Drivetrain', 'Fuel_Type',\n",
    "              'Cylinder_Config', 'City', 'STATE'])\n",
    "        ],remainder='passthrough')\n",
    "    \n",
    "    else:\n",
    "        transformer = ColumnTransformer([\n",
    "            ('ordinal_encoding',\n",
    "             OrdinalEncoder(categories=[['New', 'Certified', 'Used']]),\n",
    "             ['Stock_Type']),\n",
    "            ('target',\n",
    "             MeanEncoder(),\n",
    "             ['Brand_Name', 'Model_Name', 'Exterior_Color',\n",
    "              'Interior_Color', 'Drivetrain', 'Fuel_Type',\n",
    "              'Cylinder_Config', 'City', 'STATE'])\n",
    "        ], remainder='passthrough')\n",
    "\n",
    "    model_type = trial.suggest_categorical(\"model\", [\"RandomForest\", \"XGBoost\"])\n",
    "\n",
    "    if model_type == \"RandomForest\":\n",
    "        model = RandomForestRegressor(\n",
    "            n_estimators=trial.suggest_int(\"rf_n_estimators\", 100, 500),\n",
    "            max_depth=trial.suggest_categorical(\"rf_max_depth\", [None,5, 30]),\n",
    "            random_state=42\n",
    "        )\n",
    "    else:\n",
    "        model = XGBRegressor(\n",
    "            n_estimators=trial.suggest_int(\"xgb_n_estimators\", 100, 500),\n",
    "            learning_rate=trial.suggest_float(\"xgb_learning_rate\", 0.01, 0.2),\n",
    "            max_depth=trial.suggest_categorical(\"xgb_max_depth\", [None, 3, 10]),\n",
    "            random_state=42\n",
    "        )\n",
    "\n",
    "    # --- build pipeline ---\n",
    "    pipe = Pipeline([\n",
    "        ('Transformer', transformer),\n",
    "        ('model', model)\n",
    "    ])\n",
    "\n",
    "    # --- cross-validation ---\n",
    "    cv = KFold(n_splits=3, shuffle=True, random_state=42)\n",
    "    score = cross_val_score(pipe, xtrain, ytrain, cv=cv, scoring='r2', n_jobs=-1).mean()\n",
    "\n",
    "    return score"
   ]
  },
  {
   "cell_type": "code",
   "execution_count": 20,
   "id": "dcd12f54",
   "metadata": {},
   "outputs": [
    {
     "name": "stderr",
     "output_type": "stream",
     "text": [
      "[I 2025-10-31 12:26:23,824] Using an existing study with name 'Tree Algo with Different Encoding for String Columns' instead of creating a new one.\n",
      "[I 2025-10-31 12:26:41,083] Trial 2 finished with value: 0.9145226751563134 and parameters: {'encoder_type': 'Freq', 'model': 'XGBoost', 'xgb_n_estimators': 310, 'xgb_learning_rate': 0.15248928208194867, 'xgb_max_depth': 10}. Best is trial 2 with value: 0.9145226751563134.\n",
      "[I 2025-10-31 12:28:28,675] Trial 3 finished with value: 0.9079404680469069 and parameters: {'encoder_type': 'Count', 'model': 'RandomForest', 'rf_n_estimators': 108, 'rf_max_depth': 30}. Best is trial 2 with value: 0.9145226751563134.\n",
      "[I 2025-10-31 12:28:42,082] Trial 4 finished with value: -1.4697926161880754 and parameters: {'encoder_type': 'Target', 'model': 'XGBoost', 'xgb_n_estimators': 420, 'xgb_learning_rate': 0.03749064615071, 'xgb_max_depth': None}. Best is trial 2 with value: 0.9145226751563134.\n",
      "[I 2025-10-31 12:28:47,945] Trial 5 finished with value: 0.86627094037285 and parameters: {'encoder_type': 'Count', 'model': 'XGBoost', 'xgb_n_estimators': 480, 'xgb_learning_rate': 0.06370904190839183, 'xgb_max_depth': 3}. Best is trial 2 with value: 0.9145226751563134.\n",
      "[I 2025-10-31 12:38:44,637] Trial 6 finished with value: 0.9163035168313955 and parameters: {'encoder_type': 'Target', 'model': 'RandomForest', 'rf_n_estimators': 458, 'rf_max_depth': None}. Best is trial 6 with value: 0.9163035168313955.\n",
      "[I 2025-10-31 12:45:46,983] Trial 7 finished with value: 0.9080696432733841 and parameters: {'encoder_type': 'Freq', 'model': 'RandomForest', 'rf_n_estimators': 237, 'rf_max_depth': None}. Best is trial 6 with value: 0.9163035168313955.\n",
      "[I 2025-10-31 12:45:51,701] Trial 8 finished with value: 0.8507304872777838 and parameters: {'encoder_type': 'Count', 'model': 'XGBoost', 'xgb_n_estimators': 120, 'xgb_learning_rate': 0.1615879672073542, 'xgb_max_depth': 3}. Best is trial 6 with value: 0.9163035168313955.\n",
      "[I 2025-10-31 12:46:04,848] Trial 9 finished with value: 0.9124761649853198 and parameters: {'encoder_type': 'Count', 'model': 'XGBoost', 'xgb_n_estimators': 253, 'xgb_learning_rate': 0.08648264148964512, 'xgb_max_depth': None}. Best is trial 6 with value: 0.9163035168313955.\n",
      "[I 2025-10-31 12:46:15,133] Trial 10 finished with value: 0.9118251459992613 and parameters: {'encoder_type': 'Count', 'model': 'XGBoost', 'xgb_n_estimators': 296, 'xgb_learning_rate': 0.06780955968737963, 'xgb_max_depth': None}. Best is trial 6 with value: 0.9163035168313955.\n",
      "[I 2025-10-31 12:57:00,944] Trial 11 finished with value: 0.9162923910993789 and parameters: {'encoder_type': 'Target', 'model': 'RandomForest', 'rf_n_estimators': 463, 'rf_max_depth': None}. Best is trial 6 with value: 0.9163035168313955.\n",
      "[I 2025-10-31 13:08:33,440] Trial 12 finished with value: 0.9162011298710895 and parameters: {'encoder_type': 'Target', 'model': 'RandomForest', 'rf_n_estimators': 484, 'rf_max_depth': None}. Best is trial 6 with value: 0.9163035168313955.\n",
      "[I 2025-10-31 13:11:09,434] Trial 13 finished with value: 0.8479253667492159 and parameters: {'encoder_type': 'Target', 'model': 'RandomForest', 'rf_n_estimators': 490, 'rf_max_depth': 5}. Best is trial 6 with value: 0.9163035168313955.\n",
      "[I 2025-10-31 13:20:35,540] Trial 14 finished with value: 0.916321802507142 and parameters: {'encoder_type': 'Target', 'model': 'RandomForest', 'rf_n_estimators': 370, 'rf_max_depth': None}. Best is trial 14 with value: 0.916321802507142.\n",
      "[I 2025-10-31 13:28:41,543] Trial 15 finished with value: 0.9162004927442831 and parameters: {'encoder_type': 'Target', 'model': 'RandomForest', 'rf_n_estimators': 352, 'rf_max_depth': None}. Best is trial 14 with value: 0.916321802507142.\n",
      "[I 2025-10-31 13:38:06,791] Trial 16 finished with value: 0.916295235591812 and parameters: {'encoder_type': 'Target', 'model': 'RandomForest', 'rf_n_estimators': 371, 'rf_max_depth': None}. Best is trial 14 with value: 0.916321802507142.\n",
      "[I 2025-10-31 13:40:00,703] Trial 17 finished with value: 0.753166264405202 and parameters: {'encoder_type': 'Freq', 'model': 'RandomForest', 'rf_n_estimators': 395, 'rf_max_depth': 5}. Best is trial 14 with value: 0.916321802507142.\n",
      "[I 2025-10-31 13:47:01,306] Trial 18 finished with value: 0.9164799278737698 and parameters: {'encoder_type': 'Target', 'model': 'RandomForest', 'rf_n_estimators': 272, 'rf_max_depth': 30}. Best is trial 18 with value: 0.9164799278737698.\n",
      "[I 2025-10-31 13:52:20,337] Trial 19 finished with value: 0.9164197240129025 and parameters: {'encoder_type': 'Target', 'model': 'RandomForest', 'rf_n_estimators': 246, 'rf_max_depth': 30}. Best is trial 18 with value: 0.9164799278737698.\n",
      "[I 2025-10-31 13:58:06,300] Trial 20 finished with value: 0.9165010710372402 and parameters: {'encoder_type': 'Target', 'model': 'RandomForest', 'rf_n_estimators': 236, 'rf_max_depth': 30}. Best is trial 20 with value: 0.9165010710372402.\n",
      "[I 2025-10-31 14:02:03,073] Trial 21 finished with value: 0.9080840262128801 and parameters: {'encoder_type': 'Freq', 'model': 'RandomForest', 'rf_n_estimators': 188, 'rf_max_depth': 30}. Best is trial 20 with value: 0.9165010710372402.\n"
     ]
    }
   ],
   "source": [
    "study = optuna.create_study(\n",
    "    study_name='Tree Algo with Different Encoding for String Columns',\n",
    "    direction='maximize',\n",
    "    storage='sqlite:///../reports/autonexus_optuna.db',\n",
    "    load_if_exists=True\n",
    ")\n",
    "\n",
    "study.optimize(objective,n_trials=20)"
   ]
  },
  {
   "cell_type": "code",
   "execution_count": 4,
   "id": "87d3bd4d",
   "metadata": {},
   "outputs": [
    {
     "data": {
      "text/html": [
       "<pre style=\"white-space:pre;overflow-x:auto;line-height:normal;font-family:Menlo,'DejaVu Sans Mono',consolas,'Courier New',monospace\">Accessing as akshatsharma2407\n",
       "</pre>\n"
      ],
      "text/plain": [
       "Accessing as akshatsharma2407\n"
      ]
     },
     "metadata": {},
     "output_type": "display_data"
    },
    {
     "data": {
      "text/html": [
       "<pre style=\"white-space:pre;overflow-x:auto;line-height:normal;font-family:Menlo,'DejaVu Sans Mono',consolas,'Courier New',monospace\">Initialized MLflow to track repo <span style=\"color: #008000; text-decoration-color: #008000\">\"akshatsharma2407/AutoNexusMlOps\"</span>\n",
       "</pre>\n"
      ],
      "text/plain": [
       "Initialized MLflow to track repo \u001b[32m\"akshatsharma2407/AutoNexusMlOps\"\u001b[0m\n"
      ]
     },
     "metadata": {},
     "output_type": "display_data"
    },
    {
     "data": {
      "text/html": [
       "<pre style=\"white-space:pre;overflow-x:auto;line-height:normal;font-family:Menlo,'DejaVu Sans Mono',consolas,'Courier New',monospace\">Repository akshatsharma2407/AutoNexusMlOps initialized!\n",
       "</pre>\n"
      ],
      "text/plain": [
       "Repository akshatsharma2407/AutoNexusMlOps initialized!\n"
      ]
     },
     "metadata": {},
     "output_type": "display_data"
    }
   ],
   "source": [
    "mlflow.set_tracking_uri('https://dagshub.com/akshatsharma2407/AutoNexusMlOps.mlflow')\n",
    "dagshub.init(repo_owner='akshatsharma2407', repo_name='AutoNexusMlOps', mlflow=True)"
   ]
  },
  {
   "cell_type": "code",
   "execution_count": 40,
   "id": "fd0c911f",
   "metadata": {},
   "outputs": [
    {
     "name": "stdout",
     "output_type": "stream",
     "text": [
      "🏃 View run trial_0 at: https://dagshub.com/akshatsharma2407/AutoNexusMlOps.mlflow/#/experiments/2/runs/d1c1fc1908964912b842170db33f0e18\n",
      "🧪 View experiment at: https://dagshub.com/akshatsharma2407/AutoNexusMlOps.mlflow/#/experiments/2\n",
      "🏃 View run trial_1 at: https://dagshub.com/akshatsharma2407/AutoNexusMlOps.mlflow/#/experiments/2/runs/e7421fca87404c71b5a9dad0f09ed8d9\n",
      "🧪 View experiment at: https://dagshub.com/akshatsharma2407/AutoNexusMlOps.mlflow/#/experiments/2\n",
      "🏃 View run trial_2 at: https://dagshub.com/akshatsharma2407/AutoNexusMlOps.mlflow/#/experiments/2/runs/0fef05cbbc0f4d2a96a8100cb9d0b0bb\n",
      "🧪 View experiment at: https://dagshub.com/akshatsharma2407/AutoNexusMlOps.mlflow/#/experiments/2\n",
      "🏃 View run trial_3 at: https://dagshub.com/akshatsharma2407/AutoNexusMlOps.mlflow/#/experiments/2/runs/81417db2d67e4283985fabd724b8a6cb\n",
      "🧪 View experiment at: https://dagshub.com/akshatsharma2407/AutoNexusMlOps.mlflow/#/experiments/2\n",
      "🏃 View run trial_4 at: https://dagshub.com/akshatsharma2407/AutoNexusMlOps.mlflow/#/experiments/2/runs/6476b46d992f448eb0ff531d34c69b6a\n",
      "🧪 View experiment at: https://dagshub.com/akshatsharma2407/AutoNexusMlOps.mlflow/#/experiments/2\n",
      "🏃 View run trial_5 at: https://dagshub.com/akshatsharma2407/AutoNexusMlOps.mlflow/#/experiments/2/runs/971b53ee71f244de93412ee31d825cc5\n",
      "🧪 View experiment at: https://dagshub.com/akshatsharma2407/AutoNexusMlOps.mlflow/#/experiments/2\n",
      "🏃 View run trial_6 at: https://dagshub.com/akshatsharma2407/AutoNexusMlOps.mlflow/#/experiments/2/runs/0a874d1b2a2a4493b3affe6230446c24\n",
      "🧪 View experiment at: https://dagshub.com/akshatsharma2407/AutoNexusMlOps.mlflow/#/experiments/2\n",
      "🏃 View run trial_7 at: https://dagshub.com/akshatsharma2407/AutoNexusMlOps.mlflow/#/experiments/2/runs/3e8bf17315ef40e29082b4b91a851b21\n",
      "🧪 View experiment at: https://dagshub.com/akshatsharma2407/AutoNexusMlOps.mlflow/#/experiments/2\n",
      "🏃 View run trial_8 at: https://dagshub.com/akshatsharma2407/AutoNexusMlOps.mlflow/#/experiments/2/runs/4f46762e69994f5e9f77dff13f6a95ff\n",
      "🧪 View experiment at: https://dagshub.com/akshatsharma2407/AutoNexusMlOps.mlflow/#/experiments/2\n",
      "🏃 View run trial_9 at: https://dagshub.com/akshatsharma2407/AutoNexusMlOps.mlflow/#/experiments/2/runs/4403e12794274b348130df5f174cf88c\n",
      "🧪 View experiment at: https://dagshub.com/akshatsharma2407/AutoNexusMlOps.mlflow/#/experiments/2\n",
      "🏃 View run trial_10 at: https://dagshub.com/akshatsharma2407/AutoNexusMlOps.mlflow/#/experiments/2/runs/24e7373be6f84dc486e67acceeaf4bc6\n",
      "🧪 View experiment at: https://dagshub.com/akshatsharma2407/AutoNexusMlOps.mlflow/#/experiments/2\n",
      "🏃 View run trial_11 at: https://dagshub.com/akshatsharma2407/AutoNexusMlOps.mlflow/#/experiments/2/runs/b36df399f23e497684bcff8458d0f90b\n",
      "🧪 View experiment at: https://dagshub.com/akshatsharma2407/AutoNexusMlOps.mlflow/#/experiments/2\n",
      "🏃 View run trial_12 at: https://dagshub.com/akshatsharma2407/AutoNexusMlOps.mlflow/#/experiments/2/runs/79703da16aa449aeb5dc95aa718f0b9c\n",
      "🧪 View experiment at: https://dagshub.com/akshatsharma2407/AutoNexusMlOps.mlflow/#/experiments/2\n",
      "🏃 View run trial_13 at: https://dagshub.com/akshatsharma2407/AutoNexusMlOps.mlflow/#/experiments/2/runs/ea42f16c1ff1441c8b69d6f9eb581f28\n",
      "🧪 View experiment at: https://dagshub.com/akshatsharma2407/AutoNexusMlOps.mlflow/#/experiments/2\n",
      "🏃 View run trial_14 at: https://dagshub.com/akshatsharma2407/AutoNexusMlOps.mlflow/#/experiments/2/runs/a80ed2259f4c4eeb8b10c57af4820999\n",
      "🧪 View experiment at: https://dagshub.com/akshatsharma2407/AutoNexusMlOps.mlflow/#/experiments/2\n",
      "🏃 View run trial_15 at: https://dagshub.com/akshatsharma2407/AutoNexusMlOps.mlflow/#/experiments/2/runs/55af2cf1226d402baecacad83a5af9d1\n",
      "🧪 View experiment at: https://dagshub.com/akshatsharma2407/AutoNexusMlOps.mlflow/#/experiments/2\n",
      "🏃 View run trial_16 at: https://dagshub.com/akshatsharma2407/AutoNexusMlOps.mlflow/#/experiments/2/runs/ab1df04f80aa4b5a9d7b99ac73fee762\n",
      "🧪 View experiment at: https://dagshub.com/akshatsharma2407/AutoNexusMlOps.mlflow/#/experiments/2\n",
      "🏃 View run trial_17 at: https://dagshub.com/akshatsharma2407/AutoNexusMlOps.mlflow/#/experiments/2/runs/e5577942b4cf455baf72be199ed25013\n",
      "🧪 View experiment at: https://dagshub.com/akshatsharma2407/AutoNexusMlOps.mlflow/#/experiments/2\n",
      "🏃 View run trial_18 at: https://dagshub.com/akshatsharma2407/AutoNexusMlOps.mlflow/#/experiments/2/runs/cfe0cbd85a334aef8819e838584866d4\n",
      "🧪 View experiment at: https://dagshub.com/akshatsharma2407/AutoNexusMlOps.mlflow/#/experiments/2\n",
      "🏃 View run trial_19 at: https://dagshub.com/akshatsharma2407/AutoNexusMlOps.mlflow/#/experiments/2/runs/696b3f64170d4723b9031c01b6b07b46\n",
      "🧪 View experiment at: https://dagshub.com/akshatsharma2407/AutoNexusMlOps.mlflow/#/experiments/2\n",
      "🏃 View run trial_20 at: https://dagshub.com/akshatsharma2407/AutoNexusMlOps.mlflow/#/experiments/2/runs/f6d0a1fbbc03471487133142ae56af88\n",
      "🧪 View experiment at: https://dagshub.com/akshatsharma2407/AutoNexusMlOps.mlflow/#/experiments/2\n",
      "🏃 View run trial_21 at: https://dagshub.com/akshatsharma2407/AutoNexusMlOps.mlflow/#/experiments/2/runs/4a2ca17f0dba47e3bb69f2e59e939bfb\n",
      "🧪 View experiment at: https://dagshub.com/akshatsharma2407/AutoNexusMlOps.mlflow/#/experiments/2\n"
     ]
    }
   ],
   "source": [
    "mlflow.set_experiment(experiment_name='Tree_Algo_Exp')\n",
    "for trial in study.trials:\n",
    "    with mlflow.start_run(run_name=f\"trial_{trial.number}\"):\n",
    "        mlflow.log_params(trial.params)\n",
    "        \n",
    "        if trial.value:\n",
    "            mlflow.log_metric(\"objective\", trial.value)\n",
    "        \n",
    "        mlflow.set_tag(\"state\", trial.state.name)\n",
    "        mlflow.set_tag(\"trial_number\", trial.number)"
   ]
  },
  {
   "cell_type": "code",
   "execution_count": null,
   "id": "7e8dbba4",
   "metadata": {},
   "outputs": [],
   "source": [
    "mlflow.set_experiment(experiment_name='Tree_Algo_Exp')\n",
    "with mlflow.start_run(run_name='RandomForest_BestModel'):\n",
    "    rf_trf = ColumnTransformer([\n",
    "                ('ordinal_encoding',\n",
    "                OrdinalEncoder(categories=[['New', 'Certified', 'Used']]),\n",
    "                ['Stock_Type']),\n",
    "                ('target',\n",
    "                MeanEncoder(),\n",
    "                ['Brand_Name', 'Model_Name', 'Exterior_Color',\n",
    "                'Interior_Color', 'Drivetrain', 'Fuel_Type',\n",
    "                'Cylinder_Config', 'City', 'STATE'])\n",
    "            ], remainder='passthrough')\n",
    "\n",
    "    rf = RandomForestRegressor(n_estimators=236, max_depth=30)\n",
    "\n",
    "    pipe_rf = Pipeline(\n",
    "        [\n",
    "            ('transformer', rf_trf),\n",
    "            ('random_forest',rf)\n",
    "        ]\n",
    "    )\n",
    "\n",
    "    scoring = {\n",
    "        'r2': 'r2',\n",
    "        'mae': 'neg_mean_absolute_error',\n",
    "        'mse': 'neg_mean_squared_error'\n",
    "    }\n",
    "\n",
    "    cv = KFold(n_splits=5, shuffle=True, random_state=42)\n",
    "    score = cross_validate(pipe_rf, xtrain, ytrain, cv=cv, n_jobs=-1, verbose=245, scoring=scoring)\n",
    "\n",
    "\n",
    "    mlflow.log_metrics(\n",
    "        pd.DataFrame(score).mean().to_dict()\n",
    "    )\n",
    "\n",
    "    mlflow.sklearn.log_model(pipe_rf, 'model')\n",
    "\n",
    "    mlflow.log_params(pipe_rf.get_params())"
   ]
  },
  {
   "cell_type": "code",
   "execution_count": 7,
   "id": "bd1f54f6",
   "metadata": {},
   "outputs": [
    {
     "name": "stderr",
     "output_type": "stream",
     "text": [
      "[Parallel(n_jobs=-1)]: Using backend LokyBackend with 8 concurrent workers.\n",
      "[Parallel(n_jobs=-1)]: Done   1 tasks      | elapsed:   32.7s\n",
      "[Parallel(n_jobs=-1)]: Done   2 out of   5 | elapsed:   32.9s remaining:   49.5s\n",
      "[Parallel(n_jobs=-1)]: Done   3 out of   5 | elapsed:   33.1s remaining:   22.0s\n",
      "[Parallel(n_jobs=-1)]: Done   5 out of   5 | elapsed:   33.1s finished\n",
      "2025/10/31 15:41:11 WARNING mlflow.models.model: Model logged without a signature and input example. Please set `input_example` parameter when logging the model to auto infer the model signature.\n"
     ]
    },
    {
     "name": "stdout",
     "output_type": "stream",
     "text": [
      "🏃 View run XGBoost_BestModel at: https://dagshub.com/akshatsharma2407/AutoNexusMlOps.mlflow/#/experiments/2/runs/3851971f95d946c781f17f5abe690093\n",
      "🧪 View experiment at: https://dagshub.com/akshatsharma2407/AutoNexusMlOps.mlflow/#/experiments/2\n"
     ]
    }
   ],
   "source": [
    "mlflow.set_experiment(experiment_name='Tree_Algo_Exp')\n",
    "with mlflow.start_run(run_name='XGBoost_BestModel'):\n",
    "    xg_trf = ColumnTransformer([\n",
    "                ('ordinal_encoding',\n",
    "                OrdinalEncoder(categories=[['New', 'Certified', 'Used']]),\n",
    "                ['Stock_Type']),\n",
    "                ('target',\n",
    "                CountFrequencyEncoder(encoding_method='frequency'),\n",
    "                ['Brand_Name', 'Model_Name', 'Exterior_Color',\n",
    "                'Interior_Color', 'Drivetrain', 'Fuel_Type',\n",
    "                'Cylinder_Config', 'City', 'STATE'])\n",
    "            ], remainder='passthrough')\n",
    "\n",
    "    xg = XGBRegressor(n_estimators=310, max_depth=10)\n",
    "\n",
    "    pipe_xg = Pipeline(\n",
    "        [\n",
    "            ('transformer', xg_trf),\n",
    "            ('random_forest',xg)\n",
    "        ]\n",
    "    )\n",
    "\n",
    "    scoring = {\n",
    "        'r2': 'r2',\n",
    "        'mae': 'neg_mean_absolute_error',\n",
    "        'mse': 'neg_mean_squared_error'\n",
    "    }\n",
    "\n",
    "    cv = KFold(n_splits=5, shuffle=True, random_state=42)\n",
    "    score = cross_validate(pipe_xg, xtrain, ytrain, cv=cv, n_jobs=-1, verbose=20, scoring=scoring)\n",
    "\n",
    "\n",
    "    mlflow.log_metrics(\n",
    "        pd.DataFrame(score).mean().to_dict()\n",
    "    )\n",
    "\n",
    "    mlflow.sklearn.log_model(pipe_xg, 'model')\n",
    "\n",
    "    mlflow.log_params(pipe_xg.get_params())"
   ]
  },
  {
   "cell_type": "code",
   "execution_count": null,
   "id": "10f4daf9",
   "metadata": {},
   "outputs": [],
   "source": []
  }
 ],
 "metadata": {
  "kernelspec": {
   "display_name": "ANenv",
   "language": "python",
   "name": "python3"
  },
  "language_info": {
   "codemirror_mode": {
    "name": "ipython",
    "version": 3
   },
   "file_extension": ".py",
   "mimetype": "text/x-python",
   "name": "python",
   "nbconvert_exporter": "python",
   "pygments_lexer": "ipython3",
   "version": "3.11.7"
  }
 },
 "nbformat": 4,
 "nbformat_minor": 5
}
