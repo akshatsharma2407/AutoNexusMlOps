{
 "cells": [
  {
   "cell_type": "code",
   "execution_count": 63,
   "id": "3a8fbdd2",
   "metadata": {},
   "outputs": [],
   "source": [
    "import numpy as np\n",
    "import pandas as pd\n",
    "import optuna\n",
    "import dagshub\n",
    "import mlflow\n",
    "from sklearn.linear_model import LinearRegression, Ridge, Lasso, ElasticNet\n",
    "from sklearn.preprocessing import StandardScaler, RobustScaler, MaxAbsScaler, MinMaxScaler\n",
    "from sklearn.model_selection import cross_val_score, KFold\n",
    "from sklearn.preprocessing import OrdinalEncoder, TargetEncoder\n",
    "from feature_engine.encoding import MeanEncoder\n",
    "from category_encoders import BinaryEncoder\n",
    "from feature_engine.encoding import MeanEncoder\n",
    "from sklearn.pipeline import Pipeline\n",
    "from sklearn.compose import ColumnTransformer"
   ]
  },
  {
   "cell_type": "code",
   "execution_count": 8,
   "id": "93a01d7f",
   "metadata": {},
   "outputs": [],
   "source": [
    "train = pd.read_parquet('C:/Users/aksha/OneDrive/Desktop/AutoNexusMlOps/data/Exp/train.parquet')\n",
    "xtrain = train.drop(columns=['Price'])\n",
    "ytrain = train['Price'].copy()"
   ]
  },
  {
   "cell_type": "code",
   "execution_count": 9,
   "id": "34f4e9da",
   "metadata": {},
   "outputs": [],
   "source": [
    "pd.set_option('display.max_columns', None)"
   ]
  },
  {
   "cell_type": "code",
   "execution_count": 10,
   "id": "6775f6d3",
   "metadata": {},
   "outputs": [
    {
     "data": {
      "text/html": [
       "<div>\n",
       "<style scoped>\n",
       "    .dataframe tbody tr th:only-of-type {\n",
       "        vertical-align: middle;\n",
       "    }\n",
       "\n",
       "    .dataframe tbody tr th {\n",
       "        vertical-align: top;\n",
       "    }\n",
       "\n",
       "    .dataframe thead th {\n",
       "        text-align: right;\n",
       "    }\n",
       "</style>\n",
       "<table border=\"1\" class=\"dataframe\">\n",
       "  <thead>\n",
       "    <tr style=\"text-align: right;\">\n",
       "      <th></th>\n",
       "      <th>Model_Year</th>\n",
       "      <th>Mileage</th>\n",
       "      <th>Brand_Name</th>\n",
       "      <th>Model_Name</th>\n",
       "      <th>Stock_Type</th>\n",
       "      <th>Exterior_Color</th>\n",
       "      <th>Interior_Color</th>\n",
       "      <th>Drivetrain</th>\n",
       "      <th>Km/L</th>\n",
       "      <th>Fuel_Type</th>\n",
       "      <th>Accidents_Or_Damage</th>\n",
       "      <th>Clean_Title</th>\n",
       "      <th>One_Owner_Vehicle</th>\n",
       "      <th>Personal_Use_Only</th>\n",
       "      <th>Level2_Charging</th>\n",
       "      <th>Dc_Fast_Charging</th>\n",
       "      <th>Battery_Capacity</th>\n",
       "      <th>Expected_Range</th>\n",
       "      <th>Gear_Spec</th>\n",
       "      <th>Engine_Size</th>\n",
       "      <th>Cylinder_Config</th>\n",
       "      <th>Valves</th>\n",
       "      <th>Km/L_e_City</th>\n",
       "      <th>Km/L_e_Hwy</th>\n",
       "      <th>City</th>\n",
       "      <th>STATE</th>\n",
       "    </tr>\n",
       "  </thead>\n",
       "  <tbody>\n",
       "    <tr>\n",
       "      <th>155603</th>\n",
       "      <td>2020</td>\n",
       "      <td>91380</td>\n",
       "      <td>Toyota</td>\n",
       "      <td>Tacoma SR5</td>\n",
       "      <td>Used</td>\n",
       "      <td>white</td>\n",
       "      <td>gray</td>\n",
       "      <td>4WD</td>\n",
       "      <td>8.0</td>\n",
       "      <td>Gasoline</td>\n",
       "      <td>False</td>\n",
       "      <td>True</td>\n",
       "      <td>False</td>\n",
       "      <td>True</td>\n",
       "      <td>0.0</td>\n",
       "      <td>0.0</td>\n",
       "      <td>0.0</td>\n",
       "      <td>0.0</td>\n",
       "      <td>6</td>\n",
       "      <td>3.5</td>\n",
       "      <td>V6</td>\n",
       "      <td>24</td>\n",
       "      <td>0.0</td>\n",
       "      <td>0.0</td>\n",
       "      <td>garnett</td>\n",
       "      <td>kansas</td>\n",
       "    </tr>\n",
       "  </tbody>\n",
       "</table>\n",
       "</div>"
      ],
      "text/plain": [
       "        Model_Year  Mileage Brand_Name  Model_Name Stock_Type Exterior_Color  \\\n",
       "155603        2020    91380     Toyota  Tacoma SR5       Used          white   \n",
       "\n",
       "       Interior_Color Drivetrain  Km/L Fuel_Type  Accidents_Or_Damage  \\\n",
       "155603           gray        4WD   8.0  Gasoline                False   \n",
       "\n",
       "        Clean_Title  One_Owner_Vehicle  Personal_Use_Only  Level2_Charging  \\\n",
       "155603         True              False               True              0.0   \n",
       "\n",
       "        Dc_Fast_Charging  Battery_Capacity  Expected_Range  Gear_Spec  \\\n",
       "155603               0.0               0.0             0.0          6   \n",
       "\n",
       "        Engine_Size Cylinder_Config  Valves  Km/L_e_City  Km/L_e_Hwy     City  \\\n",
       "155603          3.5              V6      24          0.0         0.0  garnett   \n",
       "\n",
       "         STATE  \n",
       "155603  kansas  "
      ]
     },
     "execution_count": 10,
     "metadata": {},
     "output_type": "execute_result"
    }
   ],
   "source": [
    "xtrain.sample()"
   ]
  },
  {
   "cell_type": "code",
   "execution_count": 60,
   "id": "392198eb",
   "metadata": {},
   "outputs": [],
   "source": [
    "def objective(trial):\n",
    "    encoder_type = trial.suggest_categorical(\"encoder_type\", [\"Binary\", \"Target\"])\n",
    "\n",
    "    if encoder_type == \"Binary\":\n",
    "        encoder = ColumnTransformer([\n",
    "            ('ordinal_encoding',\n",
    "             OrdinalEncoder(categories=[['New', 'Certified', 'Used']]),\n",
    "             ['Stock_Type']),\n",
    "            ('BinaryEncoder',\n",
    "             BinaryEncoder(),\n",
    "             ['Brand_Name', 'Model_Name', 'Exterior_Color',\n",
    "              'Interior_Color', 'Drivetrain', 'Fuel_Type',\n",
    "              'Cylinder_Config', 'City', 'STATE'])\n",
    "        ],remainder='passthrough')\n",
    "    \n",
    "    else:\n",
    "        encoder = ColumnTransformer([\n",
    "            ('ordinal_encoding',\n",
    "             OrdinalEncoder(categories=[['New', 'Certified', 'Used']]),\n",
    "             ['Stock_Type']),\n",
    "            ('TargetEncoder',\n",
    "             TargetEncoder(),\n",
    "             ['Brand_Name', 'Model_Name', 'Exterior_Color',\n",
    "              'Interior_Color', 'Drivetrain', 'Fuel_Type',\n",
    "              'Cylinder_Config', 'City', 'STATE'])\n",
    "        ], remainder='passthrough')\n",
    "\n",
    "    model_type = trial.suggest_categorical(\"model\", [\"Linear\", \"Ridge\", \"Lasso\", \"ElasticNet\"])\n",
    "\n",
    "    if model_type == \"Linear\":\n",
    "        model = LinearRegression()\n",
    "\n",
    "    elif model_type == \"Ridge\":\n",
    "        model = Ridge(\n",
    "            alpha=trial.suggest_float(\"ridge_alpha\", 1e-3, 10.0, log=True),\n",
    "            solver=trial.suggest_categorical(\"ridge_solver\",  [\"svd\", \"cholesky\", \"lsqr\"])\n",
    "        )\n",
    "\n",
    "    elif model_type == \"Lasso\":\n",
    "        model = Lasso(\n",
    "            alpha=trial.suggest_float(\"lasso_alpha\", 1e-3, 10.0, log=True),\n",
    "            max_iter=trial.suggest_int(\"lasso_max_iter\", 1000, 10000),\n",
    "            tol=trial.suggest_float(\"lasso_tol\", 1e-5, 1e-2, log=True),\n",
    "            selection=trial.suggest_categorical(\"lasso_selection\", [\"cyclic\", \"random\"])\n",
    "        )\n",
    "\n",
    "    else:  \n",
    "        model = ElasticNet(\n",
    "            alpha=trial.suggest_float(\"elastic_alpha\", 1e-3, 10.0, log=True),\n",
    "            l1_ratio=trial.suggest_float(\"elastic_l1_ratio\", 0.0, 1.0),\n",
    "            max_iter=trial.suggest_int(\"elastic_max_iter\", 1000, 10000),\n",
    "            tol=trial.suggest_float(\"elastic_tol\", 1e-5, 1e-2, log=True),\n",
    "            selection=trial.suggest_categorical(\"elastic_selection\", [\"cyclic\", \"random\"])\n",
    "        )\n",
    "    \n",
    "    scaler = ColumnTransformer(\n",
    "        [\n",
    "            ('std', StandardScaler(), ['Km/L']),\n",
    "            ('norm', MinMaxScaler(), ['Model_Year','Valves']),\n",
    "            ('robust', RobustScaler(),['Mileage']),\n",
    "            ('maxabs', MaxAbsScaler(), ['Level2_Charging','Dc_Fast_Charging','Battery_Capacity','Gear_Spec','Km/L_e_City','Km/L_e_Hwy'])\n",
    "        ],\n",
    "        remainder='passthrough'\n",
    "    )\n",
    "    \n",
    "    cols_for_encoding = ['Brand_Name', 'Model_Name', 'Exterior_Color',\n",
    "                'Interior_Color', 'Drivetrain', 'Fuel_Type',\n",
    "                'Cylinder_Config', 'City', 'STATE', 'Stock_Type']\n",
    "    \n",
    "    cols_for_scaling = ['Model_Year','Valves','Km/L','Mileage','Level2_Charging','Dc_Fast_Charging','Battery_Capacity','Gear_Spec','Km/L_e_City','Km/L_e_Hwy']\n",
    "    \n",
    "    transformer = ColumnTransformer([\n",
    "        ('encoder',encoder,cols_for_encoding),\n",
    "        ('scaler', scaler,cols_for_scaling),\n",
    "    ])\n",
    "\n",
    "    pipe = Pipeline(\n",
    "        [\n",
    "            ('transformer',transformer),\n",
    "            ('model',model)\n",
    "        ]\n",
    "    )\n",
    "\n",
    "    cv = KFold(n_splits=3, shuffle=True, random_state=42)\n",
    "    score = cross_val_score(pipe, xtrain, ytrain, cv=cv, scoring='r2', n_jobs=-1).mean()\n",
    "    mlflow.log_metric(\"mean_r2\",score)\n",
    "\n",
    "    return score"
   ]
  },
  {
   "cell_type": "code",
   "execution_count": 64,
   "id": "46da4179",
   "metadata": {},
   "outputs": [
    {
     "data": {
      "text/html": [
       "<pre style=\"white-space:pre;overflow-x:auto;line-height:normal;font-family:Menlo,'DejaVu Sans Mono',consolas,'Courier New',monospace\">Accessing as akshatsharma2407\n",
       "</pre>\n"
      ],
      "text/plain": [
       "Accessing as akshatsharma2407\n"
      ]
     },
     "metadata": {},
     "output_type": "display_data"
    },
    {
     "data": {
      "text/html": [
       "<pre style=\"white-space:pre;overflow-x:auto;line-height:normal;font-family:Menlo,'DejaVu Sans Mono',consolas,'Courier New',monospace\">Initialized MLflow to track repo <span style=\"color: #008000; text-decoration-color: #008000\">\"akshatsharma2407/AutoNexusMlOps\"</span>\n",
       "</pre>\n"
      ],
      "text/plain": [
       "Initialized MLflow to track repo \u001b[32m\"akshatsharma2407/AutoNexusMlOps\"\u001b[0m\n"
      ]
     },
     "metadata": {},
     "output_type": "display_data"
    },
    {
     "data": {
      "text/html": [
       "<pre style=\"white-space:pre;overflow-x:auto;line-height:normal;font-family:Menlo,'DejaVu Sans Mono',consolas,'Courier New',monospace\">Repository akshatsharma2407/AutoNexusMlOps initialized!\n",
       "</pre>\n"
      ],
      "text/plain": [
       "Repository akshatsharma2407/AutoNexusMlOps initialized!\n"
      ]
     },
     "metadata": {},
     "output_type": "display_data"
    }
   ],
   "source": [
    "mlflow.set_tracking_uri('https://dagshub.com/akshatsharma2407/AutoNexusMlOps.mlflow')\n",
    "dagshub.init(repo_owner='akshatsharma2407', repo_name='AutoNexusMlOps', mlflow=True)"
   ]
  },
  {
   "cell_type": "code",
   "execution_count": null,
   "id": "18222835",
   "metadata": {},
   "outputs": [
    {
     "name": "stderr",
     "output_type": "stream",
     "text": [
      "2025/10/31 17:14:26 WARNING mlflow.utils.autologging_utils: MLflow sklearn autologging is known to be compatible with 0.24.1 <= scikit-learn <= 1.6.1, but the installed version is 1.7.2. If you encounter errors during autologging, try upgrading / downgrading scikit-learn to a compatible version, or try upgrading MLflow.\n",
      "[I 2025-10-31 17:14:27,574] Using an existing study with name 'Linear Algo with Different Encoding & Scaling technique' instead of creating a new one.\n",
      "[I 2025-10-31 17:14:35,149] Trial 7 finished with value: 0.8032984278058315 and parameters: {'encoder_type': 'Target', 'model': 'Linear'}. Best is trial 7 with value: 0.8032984278058315.\n",
      "[I 2025-10-31 17:14:46,349] Trial 8 finished with value: 0.4987450555182276 and parameters: {'encoder_type': 'Binary', 'model': 'Linear'}. Best is trial 7 with value: 0.8032984278058315.\n",
      "[I 2025-10-31 17:14:53,637] Trial 9 finished with value: 0.750360077726881 and parameters: {'encoder_type': 'Target', 'model': 'Ridge', 'ridge_alpha': 0.20654566547132155, 'ridge_solver': 'lsqr'}. Best is trial 7 with value: 0.8032984278058315.\n",
      "[I 2025-10-31 17:14:56,059] Trial 10 finished with value: 0.8030610174928235 and parameters: {'encoder_type': 'Target', 'model': 'Linear'}. Best is trial 7 with value: 0.8032984278058315.\n",
      "[I 2025-10-31 17:15:00,233] Trial 11 finished with value: 0.8034353096609381 and parameters: {'encoder_type': 'Target', 'model': 'Lasso', 'lasso_alpha': 3.5467480293690867, 'lasso_max_iter': 8934, 'lasso_tol': 1.2271165084348193e-05, 'lasso_selection': 'random'}. Best is trial 11 with value: 0.8034353096609381.\n",
      "[I 2025-10-31 17:15:03,237] Trial 12 finished with value: 0.8037159235990954 and parameters: {'encoder_type': 'Target', 'model': 'Lasso', 'lasso_alpha': 6.88490919936695, 'lasso_max_iter': 9759, 'lasso_tol': 1.0253942064616102e-05, 'lasso_selection': 'random'}. Best is trial 12 with value: 0.8037159235990954.\n",
      "[I 2025-10-31 17:15:06,399] Trial 13 finished with value: 0.803123957295124 and parameters: {'encoder_type': 'Target', 'model': 'Lasso', 'lasso_alpha': 9.349199721870924, 'lasso_max_iter': 9854, 'lasso_tol': 1.024140042520683e-05, 'lasso_selection': 'random'}. Best is trial 12 with value: 0.8037159235990954.\n",
      "[I 2025-10-31 17:15:09,346] Trial 14 finished with value: 0.8030816904563043 and parameters: {'encoder_type': 'Target', 'model': 'Lasso', 'lasso_alpha': 6.521976964262443, 'lasso_max_iter': 9734, 'lasso_tol': 1.145155383752127e-05, 'lasso_selection': 'random'}. Best is trial 12 with value: 0.8037159235990954.\n",
      "[I 2025-10-31 17:15:57,653] Trial 15 finished with value: 0.8042230021445024 and parameters: {'encoder_type': 'Target', 'model': 'Lasso', 'lasso_alpha': 0.2857767594123306, 'lasso_max_iter': 6737, 'lasso_tol': 9.521423472293964e-05, 'lasso_selection': 'random'}. Best is trial 15 with value: 0.8042230021445024.\n",
      "[I 2025-10-31 17:16:32,983] Trial 16 finished with value: 0.8033511588423262 and parameters: {'encoder_type': 'Target', 'model': 'Lasso', 'lasso_alpha': 0.03103995397816576, 'lasso_max_iter': 4581, 'lasso_tol': 0.0006231012452986058, 'lasso_selection': 'cyclic'}. Best is trial 15 with value: 0.8042230021445024.\n",
      "[I 2025-10-31 17:17:19,934] Trial 17 finished with value: 0.8031318558074642 and parameters: {'encoder_type': 'Target', 'model': 'Lasso', 'lasso_alpha': 0.0010377678315517706, 'lasso_max_iter': 6464, 'lasso_tol': 0.0001576578054028868, 'lasso_selection': 'random'}. Best is trial 15 with value: 0.8042230021445024.\n",
      "[I 2025-10-31 17:17:23,936] Trial 18 finished with value: 0.8029450531554114 and parameters: {'encoder_type': 'Target', 'model': 'ElasticNet', 'elastic_alpha': 0.001003543408878752, 'elastic_l1_ratio': 0.07980161999096919, 'elastic_max_iter': 1506, 'elastic_tol': 1.5197404289120037e-05, 'elastic_selection': 'cyclic'}. Best is trial 15 with value: 0.8042230021445024.\n",
      "[I 2025-10-31 17:17:36,852] Trial 19 finished with value: 0.8031604948542869 and parameters: {'encoder_type': 'Target', 'model': 'Lasso', 'lasso_alpha': 0.28907574340442305, 'lasso_max_iter': 1646, 'lasso_tol': 0.00010951818112543353, 'lasso_selection': 'random'}. Best is trial 15 with value: 0.8042230021445024.\n",
      "[I 2025-10-31 17:18:03,342] Trial 20 finished with value: 0.8031552965208982 and parameters: {'encoder_type': 'Target', 'model': 'Lasso', 'lasso_alpha': 0.3005453126834355, 'lasso_max_iter': 6963, 'lasso_tol': 0.004021206088734367, 'lasso_selection': 'cyclic'}. Best is trial 15 with value: 0.8042230021445024.\n",
      "[I 2025-10-31 17:18:24,609] Trial 21 finished with value: 0.803220134127754 and parameters: {'encoder_type': 'Target', 'model': 'Lasso', 'lasso_alpha': 0.04482909120914954, 'lasso_max_iter': 4103, 'lasso_tol': 5.850524174439005e-05, 'lasso_selection': 'random'}. Best is trial 15 with value: 0.8042230021445024.\n",
      "[I 2025-10-31 17:18:28,045] Trial 22 finished with value: 0.8031381318235101 and parameters: {'encoder_type': 'Target', 'model': 'Lasso', 'lasso_alpha': 1.8176114479231285, 'lasso_max_iter': 8091, 'lasso_tol': 2.9123544842559875e-05, 'lasso_selection': 'random'}. Best is trial 15 with value: 0.8042230021445024.\n",
      "[I 2025-10-31 17:18:32,586] Trial 23 finished with value: 0.8038470848757199 and parameters: {'encoder_type': 'Target', 'model': 'Lasso', 'lasso_alpha': 1.5168468431115467, 'lasso_max_iter': 8385, 'lasso_tol': 2.5385783111484644e-05, 'lasso_selection': 'random'}. Best is trial 15 with value: 0.8042230021445024.\n",
      "[I 2025-10-31 17:18:37,204] Trial 24 finished with value: 0.8031908357919898 and parameters: {'encoder_type': 'Target', 'model': 'Lasso', 'lasso_alpha': 0.7052806330239063, 'lasso_max_iter': 7706, 'lasso_tol': 3.9606736403289334e-05, 'lasso_selection': 'random'}. Best is trial 15 with value: 0.8042230021445024.\n",
      "[I 2025-10-31 17:18:39,700] Trial 25 finished with value: 0.8031449368169352 and parameters: {'encoder_type': 'Target', 'model': 'Ridge', 'ridge_alpha': 0.0011221004784283, 'ridge_solver': 'svd'}. Best is trial 15 with value: 0.8042230021445024.\n",
      "[I 2025-10-31 17:18:43,035] Trial 26 finished with value: 0.8019325023722388 and parameters: {'encoder_type': 'Target', 'model': 'ElasticNet', 'elastic_alpha': 0.011704620680767336, 'elastic_l1_ratio': 0.529057442960966, 'elastic_max_iter': 9113, 'elastic_tol': 7.287470283835838e-05, 'elastic_selection': 'random'}. Best is trial 15 with value: 0.8042230021445024.\n",
      "[I 2025-10-31 17:18:46,633] Trial 27 finished with value: 0.8030617903602817 and parameters: {'encoder_type': 'Target', 'model': 'Lasso', 'lasso_alpha': 1.2372207672758821, 'lasso_max_iter': 8329, 'lasso_tol': 0.0007696782522880834, 'lasso_selection': 'random'}. Best is trial 15 with value: 0.8042230021445024.\n",
      "[I 2025-10-31 17:19:30,514] Trial 28 finished with value: 0.8029620122198292 and parameters: {'encoder_type': 'Target', 'model': 'Lasso', 'lasso_alpha': 0.15763062794903343, 'lasso_max_iter': 6078, 'lasso_tol': 2.9677098182336756e-05, 'lasso_selection': 'cyclic'}. Best is trial 15 with value: 0.8042230021445024.\n",
      "[I 2025-10-31 17:19:35,619] Trial 29 finished with value: 0.8039547062278102 and parameters: {'encoder_type': 'Target', 'model': 'Lasso', 'lasso_alpha': 0.9408572077923245, 'lasso_max_iter': 8965, 'lasso_tol': 0.00011893701513018263, 'lasso_selection': 'random'}. Best is trial 15 with value: 0.8042230021445024.\n",
      "[I 2025-10-31 17:19:40,985] Trial 30 finished with value: 0.8029780365332989 and parameters: {'encoder_type': 'Target', 'model': 'Lasso', 'lasso_alpha': 0.5667659438699852, 'lasso_max_iter': 7494, 'lasso_tol': 0.0002718997116857328, 'lasso_selection': 'random'}. Best is trial 15 with value: 0.8042230021445024.\n",
      "[I 2025-10-31 17:19:43,220] Trial 31 finished with value: 0.803056115006393 and parameters: {'encoder_type': 'Target', 'model': 'Ridge', 'ridge_alpha': 0.001442778913095231, 'ridge_solver': 'cholesky'}. Best is trial 15 with value: 0.8042230021445024.\n"
     ]
    },
    {
     "name": "stdout",
     "output_type": "stream",
     "text": [
      "🏃 View run adventurous-doe-477 at: https://dagshub.com/akshatsharma2407/AutoNexusMlOps.mlflow/#/experiments/3/runs/83463fda178f4ef8bf156223b2e187c2\n",
      "🧪 View experiment at: https://dagshub.com/akshatsharma2407/AutoNexusMlOps.mlflow/#/experiments/3\n"
     ]
    }
   ],
   "source": [
    "study = optuna.create_study(\n",
    "      study_name='Linear Algo with Different Encoding & Scaling technique',\n",
    "      direction='maximize',\n",
    "      storage='sqlite:///../reports/autonexus_optuna.db',\n",
    "      load_if_exists=True\n",
    "    )\n",
    "\n",
    "study.optimize(objective,n_trials=25)"
   ]
  },
  {
   "cell_type": "code",
   "execution_count": 68,
   "id": "0410ad4a",
   "metadata": {},
   "outputs": [
    {
     "name": "stdout",
     "output_type": "stream",
     "text": [
      "🏃 View run trial_0 at: https://dagshub.com/akshatsharma2407/AutoNexusMlOps.mlflow/#/experiments/3/runs/6825aa41c73e449ba17f72af34b51c3b\n",
      "🧪 View experiment at: https://dagshub.com/akshatsharma2407/AutoNexusMlOps.mlflow/#/experiments/3\n",
      "🏃 View run trial_1 at: https://dagshub.com/akshatsharma2407/AutoNexusMlOps.mlflow/#/experiments/3/runs/754d35ca9c8a411f8fd40193343fb61e\n",
      "🧪 View experiment at: https://dagshub.com/akshatsharma2407/AutoNexusMlOps.mlflow/#/experiments/3\n",
      "🏃 View run trial_2 at: https://dagshub.com/akshatsharma2407/AutoNexusMlOps.mlflow/#/experiments/3/runs/5da0c88a4cf4453196649ff3027833d0\n",
      "🧪 View experiment at: https://dagshub.com/akshatsharma2407/AutoNexusMlOps.mlflow/#/experiments/3\n",
      "🏃 View run trial_3 at: https://dagshub.com/akshatsharma2407/AutoNexusMlOps.mlflow/#/experiments/3/runs/9fdb170a2cf441709726921e0f95b97f\n",
      "🧪 View experiment at: https://dagshub.com/akshatsharma2407/AutoNexusMlOps.mlflow/#/experiments/3\n",
      "🏃 View run trial_4 at: https://dagshub.com/akshatsharma2407/AutoNexusMlOps.mlflow/#/experiments/3/runs/663d0875a3f3485681a2cc4991c7a2b4\n",
      "🧪 View experiment at: https://dagshub.com/akshatsharma2407/AutoNexusMlOps.mlflow/#/experiments/3\n",
      "🏃 View run trial_5 at: https://dagshub.com/akshatsharma2407/AutoNexusMlOps.mlflow/#/experiments/3/runs/19b6616638754be991c262fc02025901\n",
      "🧪 View experiment at: https://dagshub.com/akshatsharma2407/AutoNexusMlOps.mlflow/#/experiments/3\n",
      "🏃 View run trial_6 at: https://dagshub.com/akshatsharma2407/AutoNexusMlOps.mlflow/#/experiments/3/runs/0126b703f67c4a85ba7bff8e8188d607\n",
      "🧪 View experiment at: https://dagshub.com/akshatsharma2407/AutoNexusMlOps.mlflow/#/experiments/3\n",
      "🏃 View run trial_7 at: https://dagshub.com/akshatsharma2407/AutoNexusMlOps.mlflow/#/experiments/3/runs/19c34017a3ae497a820bcd26781588b9\n",
      "🧪 View experiment at: https://dagshub.com/akshatsharma2407/AutoNexusMlOps.mlflow/#/experiments/3\n",
      "🏃 View run trial_8 at: https://dagshub.com/akshatsharma2407/AutoNexusMlOps.mlflow/#/experiments/3/runs/7e064b92c62848568261921b0baeda46\n",
      "🧪 View experiment at: https://dagshub.com/akshatsharma2407/AutoNexusMlOps.mlflow/#/experiments/3\n",
      "🏃 View run trial_9 at: https://dagshub.com/akshatsharma2407/AutoNexusMlOps.mlflow/#/experiments/3/runs/18360c271a574654a4c7852c07ccf82f\n",
      "🧪 View experiment at: https://dagshub.com/akshatsharma2407/AutoNexusMlOps.mlflow/#/experiments/3\n",
      "🏃 View run trial_10 at: https://dagshub.com/akshatsharma2407/AutoNexusMlOps.mlflow/#/experiments/3/runs/78ddd3ca96c24d0699b4077d0e45f0c3\n",
      "🧪 View experiment at: https://dagshub.com/akshatsharma2407/AutoNexusMlOps.mlflow/#/experiments/3\n",
      "🏃 View run trial_11 at: https://dagshub.com/akshatsharma2407/AutoNexusMlOps.mlflow/#/experiments/3/runs/b54254fc720b41ffb7131e2f98e8e3b0\n",
      "🧪 View experiment at: https://dagshub.com/akshatsharma2407/AutoNexusMlOps.mlflow/#/experiments/3\n",
      "🏃 View run trial_12 at: https://dagshub.com/akshatsharma2407/AutoNexusMlOps.mlflow/#/experiments/3/runs/5aab232a70074055811246c7ed057410\n",
      "🧪 View experiment at: https://dagshub.com/akshatsharma2407/AutoNexusMlOps.mlflow/#/experiments/3\n",
      "🏃 View run trial_13 at: https://dagshub.com/akshatsharma2407/AutoNexusMlOps.mlflow/#/experiments/3/runs/5292b8acc7e2472a96b29e92bfbecb89\n",
      "🧪 View experiment at: https://dagshub.com/akshatsharma2407/AutoNexusMlOps.mlflow/#/experiments/3\n",
      "🏃 View run trial_14 at: https://dagshub.com/akshatsharma2407/AutoNexusMlOps.mlflow/#/experiments/3/runs/a7daff4f99d04c52ace839934eb40b2e\n",
      "🧪 View experiment at: https://dagshub.com/akshatsharma2407/AutoNexusMlOps.mlflow/#/experiments/3\n",
      "🏃 View run trial_15 at: https://dagshub.com/akshatsharma2407/AutoNexusMlOps.mlflow/#/experiments/3/runs/ae227f7a022942929bde586685c0f7ab\n",
      "🧪 View experiment at: https://dagshub.com/akshatsharma2407/AutoNexusMlOps.mlflow/#/experiments/3\n",
      "🏃 View run trial_16 at: https://dagshub.com/akshatsharma2407/AutoNexusMlOps.mlflow/#/experiments/3/runs/01dc92f370aa4f3b8495ccf27ba2ffe0\n",
      "🧪 View experiment at: https://dagshub.com/akshatsharma2407/AutoNexusMlOps.mlflow/#/experiments/3\n",
      "🏃 View run trial_17 at: https://dagshub.com/akshatsharma2407/AutoNexusMlOps.mlflow/#/experiments/3/runs/ede8f042ff7249dd99de4267776b2b09\n",
      "🧪 View experiment at: https://dagshub.com/akshatsharma2407/AutoNexusMlOps.mlflow/#/experiments/3\n",
      "🏃 View run trial_18 at: https://dagshub.com/akshatsharma2407/AutoNexusMlOps.mlflow/#/experiments/3/runs/f1d006633ffd45609afd4a61e1c09db5\n",
      "🧪 View experiment at: https://dagshub.com/akshatsharma2407/AutoNexusMlOps.mlflow/#/experiments/3\n",
      "🏃 View run trial_19 at: https://dagshub.com/akshatsharma2407/AutoNexusMlOps.mlflow/#/experiments/3/runs/e040d05d0eda4183b3bb85de7e85c156\n",
      "🧪 View experiment at: https://dagshub.com/akshatsharma2407/AutoNexusMlOps.mlflow/#/experiments/3\n",
      "🏃 View run trial_20 at: https://dagshub.com/akshatsharma2407/AutoNexusMlOps.mlflow/#/experiments/3/runs/a6a418c1934e43b08cad858c9b93f41d\n",
      "🧪 View experiment at: https://dagshub.com/akshatsharma2407/AutoNexusMlOps.mlflow/#/experiments/3\n",
      "🏃 View run trial_21 at: https://dagshub.com/akshatsharma2407/AutoNexusMlOps.mlflow/#/experiments/3/runs/e491129aa48a41f0a1fec2c2a16a3e9f\n",
      "🧪 View experiment at: https://dagshub.com/akshatsharma2407/AutoNexusMlOps.mlflow/#/experiments/3\n",
      "🏃 View run trial_22 at: https://dagshub.com/akshatsharma2407/AutoNexusMlOps.mlflow/#/experiments/3/runs/7f769dd4abd64174994a2b1ec9369e3a\n",
      "🧪 View experiment at: https://dagshub.com/akshatsharma2407/AutoNexusMlOps.mlflow/#/experiments/3\n",
      "🏃 View run trial_23 at: https://dagshub.com/akshatsharma2407/AutoNexusMlOps.mlflow/#/experiments/3/runs/23baf550b4004578b5d9d557ad5904b2\n",
      "🧪 View experiment at: https://dagshub.com/akshatsharma2407/AutoNexusMlOps.mlflow/#/experiments/3\n",
      "🏃 View run trial_24 at: https://dagshub.com/akshatsharma2407/AutoNexusMlOps.mlflow/#/experiments/3/runs/a009170034b449bd9e43ee63fedfc6e6\n",
      "🧪 View experiment at: https://dagshub.com/akshatsharma2407/AutoNexusMlOps.mlflow/#/experiments/3\n",
      "🏃 View run trial_25 at: https://dagshub.com/akshatsharma2407/AutoNexusMlOps.mlflow/#/experiments/3/runs/527cda5b7b0246ceae04d6a0898a4ffc\n",
      "🧪 View experiment at: https://dagshub.com/akshatsharma2407/AutoNexusMlOps.mlflow/#/experiments/3\n",
      "🏃 View run trial_26 at: https://dagshub.com/akshatsharma2407/AutoNexusMlOps.mlflow/#/experiments/3/runs/afbfdb70298f43a29fbfed946beb90d2\n",
      "🧪 View experiment at: https://dagshub.com/akshatsharma2407/AutoNexusMlOps.mlflow/#/experiments/3\n",
      "🏃 View run trial_27 at: https://dagshub.com/akshatsharma2407/AutoNexusMlOps.mlflow/#/experiments/3/runs/9aba5e608ee24e50b6b76efafcb80afb\n",
      "🧪 View experiment at: https://dagshub.com/akshatsharma2407/AutoNexusMlOps.mlflow/#/experiments/3\n",
      "🏃 View run trial_28 at: https://dagshub.com/akshatsharma2407/AutoNexusMlOps.mlflow/#/experiments/3/runs/2b0a29c551e748b58454dfd8d4485f1b\n",
      "🧪 View experiment at: https://dagshub.com/akshatsharma2407/AutoNexusMlOps.mlflow/#/experiments/3\n",
      "🏃 View run trial_29 at: https://dagshub.com/akshatsharma2407/AutoNexusMlOps.mlflow/#/experiments/3/runs/917849045e124655a0ed12ad904dabad\n",
      "🧪 View experiment at: https://dagshub.com/akshatsharma2407/AutoNexusMlOps.mlflow/#/experiments/3\n",
      "🏃 View run trial_30 at: https://dagshub.com/akshatsharma2407/AutoNexusMlOps.mlflow/#/experiments/3/runs/60c3f21f4cac4470b192b3e487cae511\n",
      "🧪 View experiment at: https://dagshub.com/akshatsharma2407/AutoNexusMlOps.mlflow/#/experiments/3\n",
      "🏃 View run trial_31 at: https://dagshub.com/akshatsharma2407/AutoNexusMlOps.mlflow/#/experiments/3/runs/0315fe81016e4e89a8b18ff01fa76854\n",
      "🧪 View experiment at: https://dagshub.com/akshatsharma2407/AutoNexusMlOps.mlflow/#/experiments/3\n"
     ]
    }
   ],
   "source": [
    "mlflow.set_experiment(experiment_name='Linear Algos with Different Encoding & Scaling technique')\n",
    "for trial in study.trials:\n",
    "    with mlflow.start_run(run_name=f\"trial_{trial.number}\"):\n",
    "        mlflow.log_params(trial.params)\n",
    "        \n",
    "        if trial.value:\n",
    "            mlflow.log_metric(\"objective\", trial.value)\n",
    "        \n",
    "        mlflow.set_tag(\"state\", trial.state.name)\n",
    "        mlflow.set_tag(\"trial_number\", trial.number)"
   ]
  },
  {
   "cell_type": "code",
   "execution_count": null,
   "id": "cfb71d74",
   "metadata": {},
   "outputs": [],
   "source": []
  }
 ],
 "metadata": {
  "kernelspec": {
   "display_name": "ANenv",
   "language": "python",
   "name": "python3"
  },
  "language_info": {
   "codemirror_mode": {
    "name": "ipython",
    "version": 3
   },
   "file_extension": ".py",
   "mimetype": "text/x-python",
   "name": "python",
   "nbconvert_exporter": "python",
   "pygments_lexer": "ipython3",
   "version": "3.11.7"
  }
 },
 "nbformat": 4,
 "nbformat_minor": 5
}
